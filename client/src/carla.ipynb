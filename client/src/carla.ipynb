{
 "cells": [
  {
   "cell_type": "code",
   "execution_count": 1,
   "metadata": {},
   "outputs": [],
   "source": [
    "import carla\n"
   ]
  },
  {
   "cell_type": "code",
   "execution_count": 2,
   "metadata": {},
   "outputs": [],
   "source": [
    "client=carla.Client('localhost',2000)\n",
    "client.load_world('Town03')\n",
    "world=client.get_world()"
   ]
  },
  {
   "cell_type": "code",
   "execution_count": 3,
   "metadata": {},
   "outputs": [
    {
     "name": "stdout",
     "output_type": "stream",
     "text": [
      "Transform(Location(x=166.958649, y=39.382286, z=50.078770), Rotation(pitch=-88.999451, yaw=0.000000, roll=0.000000))\n"
     ]
    }
   ],
   "source": [
    "spectator=world.get_spectator()\n",
    "transform=spectator.get_transform()\n",
    "print(transform)"
   ]
  },
  {
   "cell_type": "code",
   "execution_count": 4,
   "metadata": {},
   "outputs": [],
   "source": [
    "# spectator.set_transform(carla.Transform(carla.Location(80,-100,50),carla.Rotation(-90,90,0)))\n",
    "# spectator.set_transform(carla.Transform(carla.Location(80,-100,300),carla.Rotation(-90,90,0)))\n",
    "spectator.set_transform(carla.Transform(carla.Location(x=4.672605, y=69.624626, z=29.992836), carla.Rotation(pitch=-90, yaw=-90, roll=0.000000)))"
   ]
  },
  {
   "attachments": {},
   "cell_type": "markdown",
   "metadata": {},
   "source": [
    "- Generate npc and specify initial position"
   ]
  },
  {
   "cell_type": "code",
   "execution_count": 5,
   "metadata": {},
   "outputs": [
    {
     "name": "stdout",
     "output_type": "stream",
     "text": [
      "[<carla.libcarla.Vehicle object at 0x7f80587923c0>, <carla.libcarla.Vehicle object at 0x7f8058792580>]\n"
     ]
    }
   ],
   "source": [
    "npc=list()\n",
    "\n",
    "bp=world.get_blueprint_library().find('vehicle.audi.a2')\n",
    "actor=world.try_spawn_actor(bp,carla.Transform(carla.Location(x=5.2, y=70, z=0), carla.Rotation(pitch=0, yaw=-90, roll=0.000000)))\n",
    "# actor.set_simulate_physics(True)\n",
    "\n",
    "npc.append(actor)\n",
    "\n",
    "bp=world.get_blueprint_library().find('vehicle.bh.crossbike')\n",
    "actor=world.try_spawn_actor(bp,carla.Transform(carla.Location(x=8.3, y=70, z=0), carla.Rotation(pitch=0, yaw=-90, roll=0.000000)))\n",
    "# actor.set_simulate_physics(True)\n",
    "\n",
    "npc.append(actor)\n",
    "print(npc)"
   ]
  },
  {
   "cell_type": "code",
   "execution_count": 6,
   "metadata": {},
   "outputs": [],
   "source": [
    "# npc[1].apply_control(carla.VehicleControl(throttle=1.0, steer=0.0))\n",
    "# npc[0].apply_control(carla.VehicleControl(throttle=0.5, steer=0.0))\n",
    "npc[0].set_autopilot(True)\n",
    "npc[1].set_autopilot(True)"
   ]
  },
  {
   "cell_type": "code",
   "execution_count": 7,
   "metadata": {},
   "outputs": [],
   "source": [
    "# carla.Vehicle.open_door(npc[0],carla.VehicleDoor.All)\n",
    "# int(carla.VehicleDoor.All)"
   ]
  }
 ],
 "metadata": {
  "kernelspec": {
   "display_name": "Python 3 (ipykernel)",
   "language": "python",
   "name": "python3"
  },
  "language_info": {
   "codemirror_mode": {
    "name": "ipython",
    "version": 3
   },
   "file_extension": ".py",
   "mimetype": "text/x-python",
   "name": "python",
   "nbconvert_exporter": "python",
   "pygments_lexer": "ipython3",
   "version": "3.8.16"
  },
  "orig_nbformat": 4,
  "vscode": {
   "interpreter": {
    "hash": "949777d72b0d2535278d3dc13498b2535136f6dfe0678499012e853ee9abcab1"
   }
  }
 },
 "nbformat": 4,
 "nbformat_minor": 2
}
